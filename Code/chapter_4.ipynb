{
 "cells": [
  {
   "cell_type": "markdown",
   "metadata": {},
   "source": [
    "# Chapter 4. Basic Mathematics"
   ]
  },
  {
   "cell_type": "markdown",
   "metadata": {},
   "source": [
    "## Basic symbols and terminology"
   ]
  },
  {
   "cell_type": "markdown",
   "metadata": {},
   "source": [
    "### Vectors and matrices"
   ]
  },
  {
   "cell_type": "code",
   "execution_count": 1,
   "metadata": {},
   "outputs": [
    {
     "data": {
      "text/plain": [
       "list"
      ]
     },
     "execution_count": 1,
     "metadata": {},
     "output_type": "execute_result"
    }
   ],
   "source": [
    "# Simple python list\n",
    "x = [3, 6, 8]\n",
    "type(x)"
   ]
  },
  {
   "cell_type": "code",
   "execution_count": 2,
   "metadata": {},
   "outputs": [
    {
     "data": {
      "text/plain": [
       "numpy.ndarray"
      ]
     },
     "execution_count": 2,
     "metadata": {},
     "output_type": "execute_result"
    }
   ],
   "source": [
    "# Numpy array\n",
    "import numpy as np\n",
    "\n",
    "x = np.array([3, 6, 8])\n",
    "type(x)"
   ]
  },
  {
   "cell_type": "markdown",
   "metadata": {},
   "source": [
    "### Arithmetic symbols"
   ]
  },
  {
   "cell_type": "code",
   "execution_count": 3,
   "metadata": {},
   "outputs": [
    {
     "name": "stdout",
     "output_type": "stream",
     "text": [
      "[1, 2, 3, 4, 5] <class 'list'>\n",
      "[1, 2, 3, 4, 5] <class 'list'>\n"
     ]
    },
    {
     "data": {
      "text/plain": [
       "15"
      ]
     },
     "execution_count": 3,
     "metadata": {},
     "output_type": "execute_result"
    }
   ],
   "source": [
    "# Summation\n",
    "x = [1,2,3,4,5]\n",
    "print(x, type(x))\n",
    "x = list(range(1,6))\n",
    "print(x, type(x))\n",
    "\n",
    "sum(x)"
   ]
  },
  {
   "cell_type": "markdown",
   "metadata": {},
   "source": [
    "### Set theory"
   ]
  },
  {
   "cell_type": "code",
   "execution_count": 4,
   "metadata": {},
   "outputs": [
    {
     "name": "stdout",
     "output_type": "stream",
     "text": [
      "{1, 2, 3}\n"
     ]
    },
    {
     "data": {
      "text/plain": [
       "True"
      ]
     },
     "execution_count": 4,
     "metadata": {},
     "output_type": "execute_result"
    }
   ],
   "source": [
    "s = set()\n",
    "s = set([1, 2, 2, 3, 2, 1, 2, 2, 3, 2])\n",
    "# will remove duplicates from a list\n",
    "print(s)\n",
    "s == {1, 2, 3}\n"
   ]
  },
  {
   "cell_type": "code",
   "execution_count": 5,
   "metadata": {},
   "outputs": [
    {
     "name": "stdout",
     "output_type": "stream",
     "text": [
      "human's best friend\n",
      "18\n",
      "{'dog': 'Arf', 'cat': 'destroyer of world'}\n"
     ]
    }
   ],
   "source": [
    "dict = {\"dog\": \"human's best friend\", \"cat\": \"destroyer of world\"}\n",
    "print(dict[\"dog\"]) # == \"human's best friend\"\n",
    "print(len(dict[\"cat\"])) # == 18\n",
    "\n",
    "# but if we try to create a pair with the same key as an existing key\n",
    "dict[\"dog\"] = \"Arf\"\n",
    "\n",
    "print(dict)\n",
    "# It will override the previous value\n",
    "# dictionaries cannot have two values for one key.\n"
   ]
  },
  {
   "cell_type": "code",
   "execution_count": 6,
   "metadata": {},
   "outputs": [
    {
     "name": "stdout",
     "output_type": "stream",
     "text": [
      "{1, 2, 3}\n"
     ]
    },
    {
     "data": {
      "text/plain": [
       "True"
      ]
     },
     "execution_count": 6,
     "metadata": {},
     "output_type": "execute_result"
    }
   ],
   "source": [
    "print(s)  # == {1,2,3}\n",
    "len(s) == 3 # magnitude of s"
   ]
  },
  {
   "cell_type": "code",
   "execution_count": 7,
   "metadata": {},
   "outputs": [
    {
     "name": "stdout",
     "output_type": "stream",
     "text": [
      "{'Banana Republic', 'Old Navy', 'Target'}\n"
     ]
    }
   ],
   "source": [
    "user1 = {\"Target\",\"Banana Republic\",\"Old Navy\"} \n",
    "# note that we use {} notation to create a set\n",
    "# compare that to using [] to make a list\n",
    "print(user1)"
   ]
  },
  {
   "cell_type": "code",
   "execution_count": 8,
   "metadata": {},
   "outputs": [
    {
     "name": "stdout",
     "output_type": "stream",
     "text": [
      "{'Gap', 'Banana Republic', \"Kohl's\"}\n"
     ]
    }
   ],
   "source": [
    "user2 = {\"Banana Republic\",\"Gap\",\"Kohl's\"}\n",
    "print(user2)"
   ]
  },
  {
   "cell_type": "code",
   "execution_count": 9,
   "metadata": {},
   "outputs": [
    {
     "data": {
      "text/plain": [
       "0.2"
      ]
     },
     "execution_count": 9,
     "metadata": {},
     "output_type": "execute_result"
    }
   ],
   "source": [
    "user1 = {\"Target\",\"Banana Republic\",\"Old Navy\"} \n",
    "user2 = {\"Banana Republic\",\"Gap\",\"Kohl's\"}\n",
    "\n",
    "def jaccard(user1, user2):\n",
    "    stores_in_common = len(user1 & user2)\n",
    "    stores_all_together = len(user1 | user2)\n",
    "    return stores_in_common / float(stores_all_together)\n",
    "\n",
    "# I cast stores_all_together as a float to return a decimal answer instead of python's default integer division\n",
    "\n",
    "# so\n",
    "jaccard(user1, user2) # == 0.2 or 1/5"
   ]
  },
  {
   "cell_type": "markdown",
   "metadata": {},
   "source": [
    "## Linear algebra"
   ]
  },
  {
   "cell_type": "code",
   "execution_count": 10,
   "metadata": {},
   "outputs": [],
   "source": [
    "import numpy as np\n",
    "\n",
    "# create user preferences\n",
    "user_pref = np.array([5, 1, 3])\n",
    "\n",
    "# create a random movie matrix of 10,000 movies\n",
    "movies = np.random.randint(5,size=(3,1000))+1\n",
    "\n",
    "# Note that the randint will make random integers from 0-4\n",
    "# so I added a 1 at the end to increase the scale from 1-5"
   ]
  },
  {
   "cell_type": "code",
   "execution_count": 11,
   "metadata": {},
   "outputs": [
    {
     "name": "stdout",
     "output_type": "stream",
     "text": [
      "(3,)\n",
      "(3, 1000)\n"
     ]
    }
   ],
   "source": [
    "print(user_pref.shape) # (1, 3)\n",
    "\n",
    "print(movies.shape)    # (3, 1000)"
   ]
  },
  {
   "cell_type": "code",
   "execution_count": 12,
   "metadata": {},
   "outputs": [
    {
     "data": {
      "text/plain": [
       "array([26, 23, 27, 16, 31])"
      ]
     },
     "execution_count": 12,
     "metadata": {},
     "output_type": "execute_result"
    }
   ],
   "source": [
    "# np.dot does both dot products and matrix multiplication\n",
    "recs = np.dot(user_pref, movies)\n",
    "recs[0:5]"
   ]
  },
  {
   "cell_type": "code",
   "execution_count": 13,
   "metadata": {},
   "outputs": [
    {
     "name": "stdout",
     "output_type": "stream",
     "text": [
      "8.130073547363281e-05 seconds to run 10000 movies\n",
      "0.0011301040649414062 seconds to run 100000 movies\n",
      "0.01098775863647461 seconds to run 1000000 movies\n",
      "0.07930231094360352 seconds to run 10000000 movies\n",
      "3.7567296028137207 seconds to run 100000000 movies\n"
     ]
    }
   ],
   "source": [
    "import time\n",
    "\n",
    "for i in (10000, 100000, 1000000, 10000000, 100000000):\n",
    "    movies = np.random.randint(5,size=(3,i))+1\n",
    "    now = time.time()\n",
    "    np.dot(user_pref, movies)\n",
    "    print((time.time() - now), \"seconds to run\", i, \"movies\")\n"
   ]
  },
  {
   "cell_type": "code",
   "execution_count": null,
   "metadata": {},
   "outputs": [],
   "source": []
  }
 ],
 "metadata": {
  "kernelspec": {
   "display_name": "Python 3",
   "language": "python",
   "name": "python3"
  },
  "language_info": {
   "codemirror_mode": {
    "name": "ipython",
    "version": 3
   },
   "file_extension": ".py",
   "mimetype": "text/x-python",
   "name": "python",
   "nbconvert_exporter": "python",
   "pygments_lexer": "ipython3",
   "version": "3.7.0"
  }
 },
 "nbformat": 4,
 "nbformat_minor": 1
}
