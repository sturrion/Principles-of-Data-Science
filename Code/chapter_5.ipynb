{
 "cells": [
  {
   "cell_type": "markdown",
   "metadata": {},
   "source": [
    "# Chapter 5. Impossible or Improbable – A Gentle Introduction to Probability"
   ]
  },
  {
   "cell_type": "markdown",
   "metadata": {},
   "source": [
    "## Bayesian versus Frequentist"
   ]
  },
  {
   "cell_type": "markdown",
   "metadata": {},
   "source": [
    "### The law of large numbers"
   ]
  },
  {
   "cell_type": "code",
   "execution_count": 1,
   "metadata": {},
   "outputs": [
    {
     "name": "stdout",
     "output_type": "stream",
     "text": [
      "9999\n",
      "      means\n",
      "0  9.000000\n",
      "1  7.500000\n",
      "2  3.333333\n",
      "3  5.500000\n",
      "4  2.800000\n",
      "         means\n",
      "9994  5.021711\n",
      "9995  4.973489\n",
      "9996  5.007502\n",
      "9997  5.023705\n",
      "9998  5.008201\n"
     ]
    }
   ],
   "source": [
    "import numpy as np\n",
    "import pandas as pd\n",
    "from matplotlib import pyplot as plt\n",
    "%matplotlib inline\n",
    "\n",
    "\n",
    "results = []\n",
    "for n in range(1,10000):\n",
    "    nums = np.random.randint(low=1,high=10, size=n) # choose n numbers between 1 and 10\n",
    "    mean = nums.mean()                              # find the average of these numbers\n",
    "    results.append(mean)                            # add the average to a running list\n",
    "    \n",
    "# POP QUIZ: low large is the list results?\n",
    "print(len(results)) # 9999\n",
    "# This was tricky because i took the range from 1 to 10000 and usually we do from 0 to 10000\n",
    "\n",
    "df = pd.DataFrame({ 'means' : results})\n",
    "\n",
    "print(df.head()) # the averages in the beginning are all over the place!\n",
    "# means\n",
    "# 9.0\n",
    "# 5.0\n",
    "# 6.0\n",
    "# 4.5\n",
    "# 4.0\n",
    "\n",
    "print(df.tail()) # as n, our size of the sample size, increases, the averages get closer to 5!\n",
    "\n",
    "# means\n",
    "# 4.998799\n",
    "# 5.060924\n",
    "# 4.990597\n",
    "# 5.008802\n",
    "# 4.979198\n"
   ]
  },
  {
   "cell_type": "code",
   "execution_count": 2,
   "metadata": {},
   "outputs": [
    {
     "data": {
      "text/plain": [
       "Text(0,0.5,'Average Of Sample')"
      ]
     },
     "execution_count": 2,
     "metadata": {},
     "output_type": "execute_result"
    },
    {
     "data": {
      "image/png": "[encoded data removed]",
      "text/plain": [
       "<Figure size 432x288 with 1 Axes>"
      ]
     },
     "metadata": {
      "needs_background": "light"
     },
     "output_type": "display_data"
    }
   ],
   "source": [
    "df.plot(title='Law of Large Numbers')\n",
    "plt.xlabel(\"Number of throws in sample\")\n",
    "plt.ylabel(\"Average Of Sample\")"
   ]
  }
 ],
 "metadata": {
  "kernelspec": {
   "display_name": "Python 3",
   "language": "python",
   "name": "python3"
  },
  "language_info": {
   "codemirror_mode": {
    "name": "ipython",
    "version": 3
   },
   "file_extension": ".py",
   "mimetype": "text/x-python",
   "name": "python",
   "nbconvert_exporter": "python",
   "pygments_lexer": "ipython3",
   "version": "3.7.0"
  }
 },
 "nbformat": 4,
 "nbformat_minor": 1
}
